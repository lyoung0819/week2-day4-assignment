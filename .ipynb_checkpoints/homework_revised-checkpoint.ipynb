{
 "cells": [
  {
   "cell_type": "markdown",
   "metadata": {},
   "source": [
    "# Exercises"
   ]
  },
  {
   "cell_type": "markdown",
   "metadata": {},
   "source": [
    "### 1) Address Book\n",
    "\n",
    "\n",
    "Develop a user-friendly program that acts as an address book. The program should have the following functionalities:\n",
    "\n",
    "1. Upon starting the program, create an empty dictionary to store names and addresses.\n",
    "\n",
    "2. Allow the user to add people to the address book. For each entry, prompt the user to input a name and its corresponding address. Store these as key-value pairs in the dictionary.\n",
    "\n",
    "3. Provide a clear and straightforward menu for the user, including options to add a new entry or quit the program.\n",
    "\n",
    "4. Implement a loop that allows users to continue adding entries until they explicitly choose to quit.\n",
    "\n",
    "5. When the user decides to quit, break out of the loop and display the collected information. Print out the names and addresses of everyone in the address book in a well-formatted manner.\n",
    "\n",
    "6. Consider adding error handling to handle unexpected inputs gracefully. For instance, if the user provides invalid input when prompted for a name or address, handle the error and ask for the information again.\n",
    "\n",
    "7. Provide a user-friendly and informative message when the program terminates, summarizing the data entered and thanking the user for using the address book."
   ]
  },
  {
   "cell_type": "code",
   "execution_count": null,
   "metadata": {},
   "outputs": [],
   "source": [
    "# define function with (*args)\n",
    "# create an empty dictionary to store names and addresses\n",
    "# accept user input - start at menu (add new entry or quit) - loop until user quits \n",
    "    # input of  name \n",
    "    # input of address\n",
    "    # store as key, value pairs\n",
    "        #AFTER - go back and add in safeguards for invalid inputs\n",
    "# once quits, break loop and print collected information \n",
    "    # make sure its well-formatted\n",
    "# return a user-friendly and informative message when program terminates, summarizing data entered and thank the user for using the address book\n",
    "\n"
   ]
  },
  {
   "cell_type": "code",
   "execution_count": 3,
   "metadata": {},
   "outputs": [
    {
     "name": "stdout",
     "output_type": "stream",
     "text": [
      "Welcome to the Address Book!\n",
      "What would you like to do today? Add or Quit?add\n",
      "Please add a name: lexie\n",
      "Please enter an address for Lexie: 123 Real Street\n",
      "\tYou have added Lexie at 123 Real Street!\n",
      "What would you like to do today? Add or Quit?add\n",
      "Please add a name: Sandy\n",
      "Please enter an address for Sandy: 124 Real Street\n",
      "\tYou have added Sandy at 124 Real Street!\n",
      "What would you like to do today? Add or Quit?fa\n",
      "Please enter a valid input: Add or Quitadd\n",
      "Please add a name: Elmo\n",
      "Please enter an address for Elmo: 126 Real Street\n",
      "\tYou have added Elmo at 126 Real Street!\n",
      "What would you like to do today? Add or Quit?quit\n",
      "\n",
      "Here is the information in our address book.\n",
      "\n",
      "Lexie 123 Real Street\n",
      "=========================\n",
      "Sandy 124 Real Street\n",
      "=========================\n",
      "Elmo 126 Real Street\n",
      "=========================\n",
      "\n",
      "Thank you for using the Address Book!\n"
     ]
    }
   ],
   "source": [
    "def address_book():\n",
    "    print('Welcome to the Address Book!')\n",
    "    book = {}\n",
    "    menu_input = input('What would you like to do today? Add or Quit?').lower()\n",
    "    while menu_input:\n",
    "        if menu_input == 'quit':\n",
    "            break\n",
    "        if menu_input == 'add':\n",
    "            name_input = input('Please add a name: ').title()\n",
    "            add_input = input(f\"Please enter an address for {name_input.title()}: \").title()\n",
    "            print (f'\\tYou have added {name_input} at {add_input}!')\n",
    "            book[str(name_input)] = str(add_input)\n",
    "            menu_input = input('What would you like to do today? Add or Quit?').lower()\n",
    "        else:\n",
    "            menu_input = input('Please enter a valid input: Add or Quit').lower()\n",
    "\n",
    "    print('\\nHere is the information in our address book.\\n')\n",
    "    for name, address in book.items():\n",
    "        print(name, address)\n",
    "        print('='*25)\n",
    "   \n",
    "    print('\\nThank you for using the Address Book!')\n",
    "    \n",
    "         \n",
    "address_book()"
   ]
  },
  {
   "cell_type": "markdown",
   "metadata": {},
   "source": [
    "### 2) Best Time to Meet"
   ]
  },
  {
   "cell_type": "markdown",
   "metadata": {},
   "source": [
    "Billy is trying to figure out if there is a time that he and his team can meet to work on the project. His three teammates each give him a set of times they are available ('HH:MM' 24-hour). Create a function that will take in any number of sets of available times (*remember \\*args*) and return a set of times where everyone can meet."
   ]
  },
  {
   "cell_type": "code",
   "execution_count": 6,
   "metadata": {},
   "outputs": [],
   "source": [
    "person1 = {'09:00', '10:30', '11:30', '12:00', '13:00', '14:30'}\n",
    "person2 = {'09:30', '10:00', '10:30', '12:00', '14:30', '16:00'}\n",
    "person3 = {'09:00', '09:30', '11:00', '11:30', '12:00', '13:30', '14:30', '15:00'}\n",
    "person4 = {'11:00', '11:30', '12:00', '14:00', '14:30', '16:30', '17:00'}\n",
    "# Available Times: '12:00' and '14:30'\n"
   ]
  },
  {
   "cell_type": "code",
   "execution_count": 4,
   "metadata": {},
   "outputs": [],
   "source": [
    "def solution(*persons):\n",
    "    for person in persons:\n",
    "        return person.intersection(*persons)"
   ]
  },
  {
   "cell_type": "code",
   "execution_count": 8,
   "metadata": {},
   "outputs": [
    {
     "data": {
      "text/plain": [
       "{'12:00', '14:30'}"
      ]
     },
     "execution_count": 8,
     "metadata": {},
     "output_type": "execute_result"
    }
   ],
   "source": [
    "solution(person1, person2, person3, person4)"
   ]
  }
 ],
 "metadata": {
  "kernelspec": {
   "display_name": "Python 3 (ipykernel)",
   "language": "python",
   "name": "python3"
  },
  "language_info": {
   "codemirror_mode": {
    "name": "ipython",
    "version": 3
   },
   "file_extension": ".py",
   "mimetype": "text/x-python",
   "name": "python",
   "nbconvert_exporter": "python",
   "pygments_lexer": "ipython3",
   "version": "3.11.5"
  }
 },
 "nbformat": 4,
 "nbformat_minor": 2
}
