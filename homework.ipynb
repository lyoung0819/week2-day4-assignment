{
 "cells": [
  {
   "cell_type": "markdown",
   "metadata": {},
   "source": [
    "## Data Collections 2 (Dictionaries, Sets)"
   ]
  },
  {
   "cell_type": "markdown",
   "metadata": {},
   "source": [
    "## Tasks Today:\n",
    "1) Warm Up\n",
    "2) Dictionary <br>\n",
    " &nbsp;&nbsp;&nbsp;&nbsp; a) Declaring (key, value) <br>\n",
    " &nbsp;&nbsp;&nbsp;&nbsp; b) Accessing Values <br>\n",
    " &nbsp;&nbsp;&nbsp;&nbsp; ------ Exercise #1 - Create book dictionary and access values <br>\n",
    " &nbsp;&nbsp;&nbsp;&nbsp; c) Adding New Pairs <br>\n",
    " &nbsp;&nbsp;&nbsp;&nbsp; d) Modifying Values <br>\n",
    " &nbsp;&nbsp;&nbsp;&nbsp; e) Removing Key, Value Pairs <br>\n",
    " &nbsp;&nbsp;&nbsp;&nbsp; f) Looping a Dictionary <br>\n",
    " &nbsp;&nbsp;&nbsp;&nbsp; g) Looping Only Keys <br>\n",
    " &nbsp;&nbsp;&nbsp;&nbsp; h) Looping Only Values <br>\n",
    " &nbsp;&nbsp;&nbsp;&nbsp; ------ Exercise #2 - Modifying and Looping Dictionaries  <br>\n",
    " &nbsp;&nbsp;&nbsp;&nbsp; i) Lists with Dictionaries <br>\n",
    " &nbsp;&nbsp;&nbsp;&nbsp; j) Dictionaries with Lists <br>\n",
    " &nbsp;&nbsp;&nbsp;&nbsp; k) Dictionaries with Dictionaries <br>\n",
    "3) Dictionaries vs. Lists (over time)<br>\n",
    "4) Set <br>\n",
    " &nbsp;&nbsp;&nbsp;&nbsp; a) Declaring <br>\n",
    " &nbsp;&nbsp;&nbsp;&nbsp; b) .add() <br>\n",
    " &nbsp;&nbsp;&nbsp;&nbsp; c) .remove() <br>\n",
    " &nbsp;&nbsp;&nbsp;&nbsp; d) .union() <br>\n",
    " &nbsp;&nbsp;&nbsp;&nbsp; e) .intersection() <br>\n",
    " &nbsp;&nbsp;&nbsp;&nbsp; f) .difference() <br>\n",
    " &nbsp;&nbsp;&nbsp;&nbsp; g) .clear() <br>\n",
    "5) Frozenset <br>\n",
    " &nbsp;&nbsp;&nbsp;&nbsp; a) Declaring <br>\n",
    "6) Exercises <br>\n",
    " &nbsp;&nbsp;&nbsp;&nbsp; a) Address Book Program <br>\n",
    " &nbsp;&nbsp;&nbsp;&nbsp; b) Best Times to Meet <br>"
   ]
  },
  {
   "cell_type": "markdown",
   "metadata": {},
   "source": [
    "#### Warm Up"
   ]
  },
  {
   "cell_type": "markdown",
   "metadata": {},
   "source": [
    "Given the list `address_book`, create a function that accepts a name (first or last or both) and returns the phone number of that name in the `address_book`. If the name is not in `address_book`, return -1.<br>\n",
    "\n",
    "Ex. 1<br>\n",
    "name = 'Hank'<br>\n",
    "Expected Output: '(555) 555-1234'<br>\n",
    "\n",
    "Ex. 2<br>\n",
    "name = 'Tevin'<br>\n",
    "Expected Output: '(333) 333-3245'<br>\n",
    "\n",
    "Ex. 3<br>\n",
    "name = 'Brian'<br>\n",
    "Expected Output: -1<br>"
   ]
  },
  {
   "cell_type": "code",
   "execution_count": 5,
   "metadata": {},
   "outputs": [],
   "source": [
    "address_book = [\n",
    "    ('Hank', 'Mardukas', '123 Real Street', '(555) 555-1234'),\n",
    "    ('Peter', 'Klaven', '321 Fake Street', '(555) 555-4321'),\n",
    "    ('Sydney', 'Fife', '555 Santa Monica Drive', '(222) 222-6789'),\n",
    "    ('Tevin', 'Downey', '100 Rodeo Blvd', '(333) 333-3245')\n",
    "]"
   ]
  },
  {
   "cell_type": "code",
   "execution_count": 84,
   "metadata": {},
   "outputs": [],
   "source": [
    "# first name\n",
    "\n",
    "def get_phone_number(address_book, name):\n",
    "    for xtuple in address_book:\n",
    "        if xtuple[0] == name:\n",
    "            return xtuple[3]\n",
    "    return -1\n",
    "        \n",
    "# indentation matters - return needs to be indented with the 'for' to continue running though the for loop"
   ]
  },
  {
   "cell_type": "code",
   "execution_count": 85,
   "metadata": {},
   "outputs": [
    {
     "data": {
      "text/plain": [
       "'(555) 555-4321'"
      ]
     },
     "execution_count": 85,
     "metadata": {},
     "output_type": "execute_result"
    }
   ],
   "source": [
    "get_phone_number(address_book, 'Peter')"
   ]
  },
  {
   "cell_type": "code",
   "execution_count": null,
   "metadata": {},
   "outputs": [],
   "source": []
  },
  {
   "cell_type": "code",
   "execution_count": null,
   "metadata": {},
   "outputs": [],
   "source": [
    "# Another way: \n",
    "def get_phone_number(lists):\n",
    "    user_name = input('Enter a name:\\n').lower()\n",
    "    for person in lists:\n",
    "        if user_name in person[0].lower() or user_name in person[1].lower():\n",
    "            return person[3]\n",
    "    return -1"
   ]
  },
  {
   "cell_type": "code",
   "execution_count": null,
   "metadata": {},
   "outputs": [],
   "source": [
    "get_phone_number(address_book)"
   ]
  },
  {
   "cell_type": "code",
   "execution_count": 91,
   "metadata": {},
   "outputs": [],
   "source": [
    "\n",
    "# unpacking \n",
    "\n",
    "\n",
    "def get_phone_number(name):\n",
    "    for first, last, address, phone in address_book:\n",
    "        if first == name or last == name or f\"{first} {last}\" == name:\n",
    "            return phone\n",
    "    return -1 "
   ]
  },
  {
   "cell_type": "code",
   "execution_count": 90,
   "metadata": {},
   "outputs": [
    {
     "data": {
      "text/plain": [
       "'(333) 333-3245'"
      ]
     },
     "execution_count": 90,
     "metadata": {},
     "output_type": "execute_result"
    }
   ],
   "source": [
    "get_phone_number('Tevin')"
   ]
  },
  {
   "cell_type": "markdown",
   "metadata": {},
   "source": [
    "## Dictionary <br>\n",
    "<p>A collection of data with 'key:value' pairs. Dictionaries are considered \"ordered\" as of Python 3.6 but not in memory</p>"
   ]
  },
  {
   "cell_type": "code",
   "execution_count": 92,
   "metadata": {},
   "outputs": [
    {
     "name": "stdout",
     "output_type": "stream",
     "text": [
      "{'Hank': '123 Real Street', 'Peter': '321 Fake street', 'Sydney': '555 Santa Monica Blvd', 'Tevin': '100 Rodero Drive'}\n",
      "<class 'dict'>\n"
     ]
    }
   ],
   "source": [
    "# Dictionaries are UNORDERED in memory (when saved)\n",
    "    # although python will remember the order in which you put your data in and is considered ordered in that respect\n",
    "\n",
    "\n",
    "# Creating empty dictionaries \n",
    "d1 = {}\n",
    "d2 = dict()\n",
    "\n",
    "\n",
    "# Data inside a dictionary is ALWAYS in pairs, key and value are separated by colon, pairs separated by ',' commas\n",
    "# {key:value}, {key:value}\n",
    "\n",
    "d3 = {\n",
    "    'Hank': '123 Real Street',\n",
    "    'Peter': '321 Fake street',\n",
    "    'Sydney': '555 Santa Monica Blvd',\n",
    "    'Tevin': '100 Rodero Drive'\n",
    "}\n",
    "\n",
    "print(d3)\n",
    "print(type(d3))"
   ]
  },
  {
   "cell_type": "markdown",
   "metadata": {},
   "source": [
    "##### Declaring (key, value)"
   ]
  },
  {
   "cell_type": "code",
   "execution_count": 93,
   "metadata": {},
   "outputs": [
    {
     "name": "stdout",
     "output_type": "stream",
     "text": [
      "{'name': 'Brian', 'age': 44, 'city': 'Chicago'}\n",
      "<class 'dict'>\n"
     ]
    }
   ],
   "source": [
    "# Syntax: a_dict = {} or a_dict = dict() or a_dict = {'key': value, ...} or a_dict = dict(key=value)\n",
    "\n",
    "# You can set up keyword arguments/kwargs with d4 = dict(key=value)\n",
    "\n",
    "d4 = dict(name='Brian', age=44, city='Chicago')\n",
    "print(d4)\n",
    "print(type(d4))"
   ]
  },
  {
   "cell_type": "markdown",
   "metadata": {},
   "source": [
    "##### Accessing Values"
   ]
  },
  {
   "cell_type": "code",
   "execution_count": 95,
   "metadata": {},
   "outputs": [
    {
     "name": "stdout",
     "output_type": "stream",
     "text": [
      "Hank\n",
      "Tevin\n"
     ]
    }
   ],
   "source": [
    "# actually accessing the values\n",
    "\n",
    "# grabbing a value from a LIST  \n",
    "\n",
    "a_list = ['Hank', 'Peter', 'Sydney', 'Tevin']\n",
    "\n",
    "# we access information via their index\n",
    "\n",
    "print(a_list[0])\n",
    "print(a_list[3])"
   ]
  },
  {
   "cell_type": "code",
   "execution_count": null,
   "metadata": {},
   "outputs": [],
   "source": [
    "# With Dictionaries, you need to grab the KEY "
   ]
  },
  {
   "cell_type": "code",
   "execution_count": 96,
   "metadata": {},
   "outputs": [
    {
     "name": "stdout",
     "output_type": "stream",
     "text": [
      "555 Santa Monica Blvd\n"
     ]
    }
   ],
   "source": [
    "# the syntax is: dict[key]\n",
    "\n",
    "print(d3['Sydney'])"
   ]
  },
  {
   "cell_type": "code",
   "execution_count": null,
   "metadata": {},
   "outputs": [],
   "source": []
  },
  {
   "cell_type": "markdown",
   "metadata": {},
   "source": [
    "##### .get()"
   ]
  },
  {
   "cell_type": "code",
   "execution_count": 14,
   "metadata": {},
   "outputs": [
    {
     "name": "stdout",
     "output_type": "stream",
     "text": [
      "Help on method_descriptor:\n",
      "\n",
      "get(self, key, default=None, /)\n",
      "    Return the value for key if key is in the dictionary, else default.\n",
      "\n"
     ]
    }
   ],
   "source": [
    "help(dict.get)\n",
    "\n",
    "# .get() will return None if the value isn't in the dictionary, opposed to throwing an error like the above method"
   ]
  },
  {
   "cell_type": "code",
   "execution_count": 97,
   "metadata": {},
   "outputs": [
    {
     "name": "stdout",
     "output_type": "stream",
     "text": [
      "321 Fake street\n"
     ]
    }
   ],
   "source": [
    "# dictionary.get('key') or dict.get('key', value_if_no_key) <- here we can provide a value to return if it is not there\n",
    "\n",
    "print(d3.get('Peter'))"
   ]
  },
  {
   "cell_type": "code",
   "execution_count": 100,
   "metadata": {},
   "outputs": [
    {
     "name": "stdout",
     "output_type": "stream",
     "text": [
      "None\n",
      "No Address Available\n",
      "123 Real Street\n"
     ]
    }
   ],
   "source": [
    "print(d3.get('Travis'))\n",
    "\n",
    "print(d3.get('Travis', 'No Address Available'))\n",
    "\n",
    "print(d3.get('Hank'))"
   ]
  },
  {
   "cell_type": "code",
   "execution_count": null,
   "metadata": {},
   "outputs": [],
   "source": [
    "# Accerssing values is always done by key - there is no concept of index within a dictionary \n",
    "\n",
    "print(d3[0]) # thinks you're looking for a key 0 "
   ]
  },
  {
   "cell_type": "markdown",
   "metadata": {},
   "source": [
    "## In-Class Exercise #1\n",
    "Create a dictionary called `favorite_book` that has keys `title`, `author`, `genre`, and `rating` (number out of 100). Then create a variable called `statement` that is a formatted string saying \"My favorite book is `title` by `author` which I would give a `rating` out of 100\""
   ]
  },
  {
   "cell_type": "code",
   "execution_count": 122,
   "metadata": {},
   "outputs": [
    {
     "name": "stdout",
     "output_type": "stream",
     "text": [
      "My favorite book is Hello World\n"
     ]
    }
   ],
   "source": [
    "favorite_book = {\n",
    "    'title': 'Hello World',\n",
    "    'author': 'Jane Doe ',\n",
    "    'genre': 'fantasy',\n",
    "    'rating': 89,\n",
    "}\n",
    "\n",
    "\n",
    "\n",
    "statement = f\"My favorite book is {favorite_book.get('title')} by {favorite_book.get('author')} which I would give a {favorite_book.get('rating')} out of 100\"\n",
    "# OR \n",
    "statement = f\"My favorite book is {favorite_book['title']}\" # (square brackets or .get method ^ )\n",
    "\n",
    "print(statement)"
   ]
  },
  {
   "cell_type": "markdown",
   "metadata": {},
   "source": [
    "##### Adding New Pairs"
   ]
  },
  {
   "cell_type": "code",
   "execution_count": 126,
   "metadata": {},
   "outputs": [
    {
     "name": "stdout",
     "output_type": "stream",
     "text": [
      "{'Hank': '123 Real Street', 'Peter': '321 Fake street', 'Sydney': '555 Santa Monica Blvd', 'Tevin': '100 Rodero Drive', 'Zooey': '456 Main Street'}\n"
     ]
    }
   ],
   "source": [
    "# To add a new pair to the dictionary: \n",
    "\n",
    "# Syntax: dictionary[new key] = new value\n",
    "\n",
    "d3['Zooey'] = '456 Main Street'\n",
    "print(d3)"
   ]
  },
  {
   "cell_type": "markdown",
   "metadata": {},
   "source": [
    "##### Modifying Values"
   ]
  },
  {
   "cell_type": "code",
   "execution_count": 127,
   "metadata": {},
   "outputs": [
    {
     "data": {
      "text/plain": [
       "{'Hank': '123 Real Street',\n",
       " 'Peter': '321 Fake street',\n",
       " 'Sydney': '555 Santa Monica Blvd',\n",
       " 'Tevin': '100 Rodero Drive',\n",
       " 'Zooey': '654 Second Street'}"
      ]
     },
     "execution_count": 127,
     "metadata": {},
     "output_type": "execute_result"
    }
   ],
   "source": [
    "# dict[key] = value\n",
    "\n",
    "# use the same syntax for adding, to modify the same one\n",
    "\n",
    "d3['Zooey'] = '654 Second Street'\n",
    "d3"
   ]
  },
  {
   "cell_type": "markdown",
   "metadata": {},
   "source": [
    "##### Removing Key, Value Pairs"
   ]
  },
  {
   "cell_type": "code",
   "execution_count": 129,
   "metadata": {},
   "outputs": [
    {
     "name": "stdout",
     "output_type": "stream",
     "text": [
      "['red', 'orange', 'yellow', 'green', 'blue', 'indigo', 'violet']\n",
      "['red', 'orange', 'green', 'blue', 'indigo', 'violet']\n"
     ]
    }
   ],
   "source": [
    "# if you use 'del' by index on a list: \n",
    "\n",
    "colors = ['red','orange','yellow','green','blue','indigo','violet']\n",
    "print(colors)\n",
    "\n",
    "del colors[2]\n",
    "\n",
    "print(colors)"
   ]
  },
  {
   "cell_type": "code",
   "execution_count": 132,
   "metadata": {},
   "outputs": [
    {
     "ename": "KeyError",
     "evalue": "'Tevin'",
     "output_type": "error",
     "traceback": [
      "\u001b[0;31m---------------------------------------------------------------------------\u001b[0m",
      "\u001b[0;31mKeyError\u001b[0m                                  Traceback (most recent call last)",
      "Cell \u001b[0;32mIn[132], line 6\u001b[0m\n\u001b[1;32m      1\u001b[0m \u001b[38;5;66;03m# simliar idea with deleting from dictionaries: \u001b[39;00m\n\u001b[1;32m      2\u001b[0m \n\u001b[1;32m      3\u001b[0m \u001b[38;5;66;03m# del dict[key]\u001b[39;00m\n\u001b[0;32m----> 6\u001b[0m \u001b[38;5;28;01mdel\u001b[39;00m d3[\u001b[38;5;124m'\u001b[39m\u001b[38;5;124mTevin\u001b[39m\u001b[38;5;124m'\u001b[39m]\n\u001b[1;32m      7\u001b[0m \u001b[38;5;28mprint\u001b[39m(d3)\n",
      "\u001b[0;31mKeyError\u001b[0m: 'Tevin'"
     ]
    }
   ],
   "source": [
    "# simliar idea with deleting from dictionaries: \n",
    "\n",
    "# del dict[key]\n",
    "\n",
    "\n",
    "del d3['Tevin']\n",
    "print(d3)"
   ]
  },
  {
   "cell_type": "code",
   "execution_count": 20,
   "metadata": {},
   "outputs": [
    {
     "data": {
      "text/plain": [
       "{'Hank': '123 Real Street',\n",
       " 'Peter': '321 Fake Street',\n",
       " 'Sydney': '555 Santa Monica Blvd',\n",
       " 'Zooey': '654 Second Street'}"
      ]
     },
     "execution_count": 20,
     "metadata": {},
     "output_type": "execute_result"
    }
   ],
   "source": [
    "d3"
   ]
  },
  {
   "cell_type": "code",
   "execution_count": 137,
   "metadata": {},
   "outputs": [
    {
     "name": "stdout",
     "output_type": "stream",
     "text": [
      "{'hi': 'hello', 'bye': 'goodbye'}\n"
     ]
    }
   ],
   "source": [
    "d4 = {\n",
    "    'hi':'hello',\n",
    "    'bye': 'goodbye'\n",
    "}\n",
    "\n",
    "print(d4)\n"
   ]
  },
  {
   "cell_type": "code",
   "execution_count": 138,
   "metadata": {},
   "outputs": [],
   "source": [
    "del d4['hi']"
   ]
  },
  {
   "cell_type": "code",
   "execution_count": 139,
   "metadata": {},
   "outputs": [
    {
     "name": "stdout",
     "output_type": "stream",
     "text": [
      "{'bye': 'goodbye'}\n"
     ]
    }
   ],
   "source": [
    "print(d4)"
   ]
  },
  {
   "cell_type": "code",
   "execution_count": 22,
   "metadata": {},
   "outputs": [
    {
     "name": "stdout",
     "output_type": "stream",
     "text": [
      "Help on method_descriptor:\n",
      "\n",
      "pop(...)\n",
      "    D.pop(k[,d]) -> v, remove specified key and return the corresponding value.\n",
      "    \n",
      "    If the key is not found, return the default if given; otherwise,\n",
      "    raise a KeyError.\n",
      "\n"
     ]
    }
   ],
   "source": [
    "# dict.pop('key') - remove key,value pair - returns value back to caller\n",
    "help(dict.pop)"
   ]
  },
  {
   "cell_type": "code",
   "execution_count": 23,
   "metadata": {},
   "outputs": [
    {
     "name": "stdout",
     "output_type": "stream",
     "text": [
      "654 Second Street\n",
      "{'Hank': '123 Real Street', 'Peter': '321 Fake Street', 'Sydney': '555 Santa Monica Blvd'}\n"
     ]
    }
   ],
   "source": [
    "# To see which value you removed\n",
    "# if they key isn't in the dictionary, you can add a second argument to which default is given, otherwise error\n",
    "removed_value = d3.pop('Zooey')\n",
    "\n",
    "print(removed_value)\n",
    "\n",
    "print(d3)"
   ]
  },
  {
   "cell_type": "code",
   "execution_count": 24,
   "metadata": {},
   "outputs": [
    {
     "name": "stdout",
     "output_type": "stream",
     "text": [
      "Not in Dictionary\n",
      "{'Hank': '123 Real Street', 'Peter': '321 Fake Street', 'Sydney': '555 Santa Monica Blvd'}\n"
     ]
    }
   ],
   "source": [
    "# If the key is not in the dictionary, you can add a second argument for the default return value\n",
    "removed_value = d3.pop('Zooey', 'Not in Dictionary')\n",
    "\n",
    "print(removed_value)\n",
    "\n",
    "print(d3)"
   ]
  },
  {
   "cell_type": "markdown",
   "metadata": {},
   "source": [
    "##### Looping a Dictionary"
   ]
  },
  {
   "cell_type": "code",
   "execution_count": 25,
   "metadata": {},
   "outputs": [
    {
     "name": "stdout",
     "output_type": "stream",
     "text": [
      "Help on method_descriptor:\n",
      "\n",
      "items(...)\n",
      "    D.items() -> a set-like object providing a view on D's items\n",
      "\n"
     ]
    }
   ],
   "source": [
    "help(dict.items)"
   ]
  },
  {
   "cell_type": "code",
   "execution_count": 26,
   "metadata": {},
   "outputs": [
    {
     "name": "stdout",
     "output_type": "stream",
     "text": [
      "{'Hank': '123 Real Street', 'Peter': '321 Fake Street', 'Sydney': '555 Santa Monica Blvd'}\n",
      "dict_items([('Hank', '123 Real Street'), ('Peter', '321 Fake Street'), ('Sydney', '555 Santa Monica Blvd')])\n"
     ]
    }
   ],
   "source": [
    "# .items()\n",
    "print(d3)\n",
    "print(d3.items())"
   ]
  },
  {
   "cell_type": "code",
   "execution_count": 27,
   "metadata": {
    "scrolled": true
   },
   "outputs": [
    {
     "name": "stdout",
     "output_type": "stream",
     "text": [
      "('Hank', '123 Real Street') <class 'tuple'>\n",
      "('Peter', '321 Fake Street') <class 'tuple'>\n",
      "('Sydney', '555 Santa Monica Blvd') <class 'tuple'>\n"
     ]
    }
   ],
   "source": [
    "# when you for loop through the dictionary, it will return tuples! \n",
    "\n",
    "#items method will often be unpacked since it will give you a tuple\n",
    "\n",
    "for item in d3.items():\n",
    "    print(item, type(item))"
   ]
  },
  {
   "cell_type": "code",
   "execution_count": 141,
   "metadata": {},
   "outputs": [
    {
     "name": "stdout",
     "output_type": "stream",
     "text": [
      "Key: Peter Value: 321 Fake street\n",
      "Key: Sydney Value: 555 Santa Monica Blvd\n",
      "Key: Zooey Value: 654 Second Street\n"
     ]
    }
   ],
   "source": [
    "#unpacking\n",
    "for name, address in d3.items():\n",
    "    print('Key:', name, 'Value:', address)"
   ]
  },
  {
   "cell_type": "code",
   "execution_count": 142,
   "metadata": {},
   "outputs": [
    {
     "name": "stdout",
     "output_type": "stream",
     "text": [
      "Peter 321 Fake street\n",
      "Sydney 555 Santa Monica Blvd\n",
      "Zooey 654 Second Street\n"
     ]
    }
   ],
   "source": [
    "#unpacking\n",
    "for key, val in d3.items():\n",
    "    print(key, val)"
   ]
  },
  {
   "cell_type": "markdown",
   "metadata": {},
   "source": [
    "##### Looping Only Keys"
   ]
  },
  {
   "cell_type": "code",
   "execution_count": 29,
   "metadata": {},
   "outputs": [
    {
     "name": "stdout",
     "output_type": "stream",
     "text": [
      "Help on method_descriptor:\n",
      "\n",
      "keys(...)\n",
      "    D.keys() -> a set-like object providing a view on D's keys\n",
      "\n"
     ]
    }
   ],
   "source": [
    "help(dict.keys)"
   ]
  },
  {
   "cell_type": "code",
   "execution_count": 143,
   "metadata": {},
   "outputs": [
    {
     "name": "stdout",
     "output_type": "stream",
     "text": [
      "dict_keys(['Peter', 'Sydney', 'Zooey'])\n"
     ]
    }
   ],
   "source": [
    "# .keys()\n",
    "\n",
    "# will loop through but only provide the keys in the dictionary / this IS iterable\n",
    "\n",
    "print(d3.keys())"
   ]
  },
  {
   "cell_type": "code",
   "execution_count": 31,
   "metadata": {},
   "outputs": [
    {
     "name": "stdout",
     "output_type": "stream",
     "text": [
      "Hank\n",
      "Peter\n",
      "Sydney\n"
     ]
    }
   ],
   "source": [
    "for key in d3.keys():\n",
    "    print(key)"
   ]
  },
  {
   "cell_type": "code",
   "execution_count": 32,
   "metadata": {},
   "outputs": [
    {
     "name": "stdout",
     "output_type": "stream",
     "text": [
      "Hank\n",
      "Peter\n",
      "Sydney\n"
     ]
    }
   ],
   "source": [
    "# Looping over a dictionary, it will loop through only the keys\n",
    "# don't have to use the .keys()\n",
    "\n",
    "for x in d3:\n",
    "    print(x)"
   ]
  },
  {
   "cell_type": "code",
   "execution_count": 33,
   "metadata": {},
   "outputs": [
    {
     "name": "stdout",
     "output_type": "stream",
     "text": [
      "Hank 123 Real Street\n",
      "Peter 321 Fake Street\n",
      "Sydney 555 Santa Monica Blvd\n"
     ]
    }
   ],
   "source": [
    "# you can ALWAYS access the value in a dictionary from its key\n",
    "# for each key in d3, print(k, d3[k]) -> the value in d3 for key 'k' \n",
    "for k in d3:\n",
    "    print(k, d3[k])"
   ]
  },
  {
   "cell_type": "markdown",
   "metadata": {},
   "source": [
    "##### Looping Only Values"
   ]
  },
  {
   "cell_type": "code",
   "execution_count": 34,
   "metadata": {},
   "outputs": [
    {
     "name": "stdout",
     "output_type": "stream",
     "text": [
      "Help on method_descriptor:\n",
      "\n",
      "values(...)\n",
      "    D.values() -> an object providing a view on D's values\n",
      "\n"
     ]
    }
   ],
   "source": [
    "help(dict.values)"
   ]
  },
  {
   "cell_type": "code",
   "execution_count": 144,
   "metadata": {},
   "outputs": [
    {
     "name": "stdout",
     "output_type": "stream",
     "text": [
      "dict_values(['321 Fake street', '555 Santa Monica Blvd', '654 Second Street'])\n"
     ]
    }
   ],
   "source": [
    "# .values()\n",
    "\n",
    "# Only loops through the values in the dictionary \n",
    "\n",
    "print(d3.values())"
   ]
  },
  {
   "cell_type": "code",
   "execution_count": 36,
   "metadata": {},
   "outputs": [
    {
     "name": "stdout",
     "output_type": "stream",
     "text": [
      "123 Real Street\n",
      "321 Fake Street\n",
      "555 Santa Monica Blvd\n"
     ]
    }
   ],
   "source": [
    "# looping through: \n",
    "for val in d3.values():\n",
    "    print(val)"
   ]
  },
  {
   "cell_type": "code",
   "execution_count": 37,
   "metadata": {},
   "outputs": [
    {
     "name": "stdout",
     "output_type": "stream",
     "text": [
      "Hank\n"
     ]
    }
   ],
   "source": [
    "# While you can always access a value from the key, doing the opposite is not so easy\n",
    "\n",
    "value = '123 Real Street'\n",
    "\n",
    "for key, val in d3.items():\n",
    "    if val == value:\n",
    "        print(key)"
   ]
  },
  {
   "cell_type": "code",
   "execution_count": 38,
   "metadata": {},
   "outputs": [
    {
     "name": "stdout",
     "output_type": "stream",
     "text": [
      "{'a': 123, 'b': 123}\n",
      "a\n",
      "b\n"
     ]
    }
   ],
   "source": [
    "another_dict = {\n",
    "    'a': 123,\n",
    "    'b': 123\n",
    "}\n",
    "\n",
    "\n",
    "print(another_dict)\n",
    "\n",
    "\n",
    "value = 123\n",
    "\n",
    "for key, val in another_dict.items():\n",
    "    if val == value:\n",
    "        print(key)"
   ]
  },
  {
   "cell_type": "markdown",
   "metadata": {},
   "source": [
    "## In-Class Exercise #2\n",
    "Modify your `favorite_book` dictionary from Exercise 1. Change the `rating` to a string with a grade rating ('B+' instead of 88). After you update, loop through the dictionary and log each key value pair in the format of `Key: Value`"
   ]
  },
  {
   "cell_type": "code",
   "execution_count": 39,
   "metadata": {},
   "outputs": [],
   "source": [
    "# Example Output:\n",
    "\n",
    "# Title: The Outsiders\n",
    "# Author: S.E. Hinton\n",
    "# Genre: Coming of Age\n",
    "# Rating: A+"
   ]
  },
  {
   "cell_type": "code",
   "execution_count": null,
   "metadata": {},
   "outputs": [],
   "source": [
    "favorite_book = {\n",
    "    'title': 'Hello World',\n",
    "    'author': 'Jane Doe ',\n",
    "    'genre': 'fantasy',\n",
    "    'rating': '89',\n",
    "}"
   ]
  },
  {
   "cell_type": "code",
   "execution_count": 149,
   "metadata": {},
   "outputs": [
    {
     "name": "stdout",
     "output_type": "stream",
     "text": [
      "{'title': 'Hello World', 'author': 'Jane Doe ', 'genre': 'fantasy', 'rating': 'B'}\n"
     ]
    }
   ],
   "source": [
    "# dict[key] = value\n",
    "\n",
    "favorite_book['rating'] = 'B'\n",
    "print(favorite_book)"
   ]
  },
  {
   "cell_type": "code",
   "execution_count": 151,
   "metadata": {},
   "outputs": [
    {
     "name": "stdout",
     "output_type": "stream",
     "text": [
      "title: Hello World\n",
      "author: Jane Doe \n",
      "genre: fantasy\n",
      "rating: B\n"
     ]
    }
   ],
   "source": [
    "for item in favorite_book.items():\n",
    "    print(f'{item[0]}: {item[1]}')  "
   ]
  },
  {
   "cell_type": "code",
   "execution_count": 152,
   "metadata": {},
   "outputs": [
    {
     "name": "stdout",
     "output_type": "stream",
     "text": [
      "Title: Hello World\n",
      "Author: Jane Doe \n",
      "Genre: Fantasy\n",
      "Rating: B\n"
     ]
    }
   ],
   "source": [
    "for key, value in favorite_book.items():\n",
    "    print(f\"{key.title()}: {value.title()}\")"
   ]
  },
  {
   "cell_type": "code",
   "execution_count": 153,
   "metadata": {},
   "outputs": [
    {
     "name": "stdout",
     "output_type": "stream",
     "text": [
      "title\n",
      "author\n",
      "genre\n",
      "rating\n"
     ]
    }
   ],
   "source": [
    "for x in favorite_book:\n",
    "    print(x)"
   ]
  },
  {
   "cell_type": "code",
   "execution_count": 158,
   "metadata": {},
   "outputs": [
    {
     "name": "stdout",
     "output_type": "stream",
     "text": [
      "Title: Hello World\n",
      "Author: Jane Doe \n",
      "Genre: fantasy\n",
      "Rating: B\n"
     ]
    }
   ],
   "source": [
    "for x in favorite_book:\n",
    "    print(f\"{x.title()}: {favorite_book[x]}\")"
   ]
  },
  {
   "cell_type": "code",
   "execution_count": 159,
   "metadata": {},
   "outputs": [
    {
     "name": "stdout",
     "output_type": "stream",
     "text": [
      "Title: Hello World\n",
      "Author: Jane Doe \n",
      "Genre: fantasy\n",
      "Rating: B\n"
     ]
    }
   ],
   "source": [
    "for key in favorite_book.keys():\n",
    "    print(f\"{key.title()}: {favorite_book[key]}\")"
   ]
  },
  {
   "cell_type": "code",
   "execution_count": null,
   "metadata": {},
   "outputs": [],
   "source": [
    "# Can't always get the key from having the value, but you can always find the value if you have the key"
   ]
  },
  {
   "cell_type": "code",
   "execution_count": null,
   "metadata": {},
   "outputs": [],
   "source": []
  },
  {
   "cell_type": "code",
   "execution_count": null,
   "metadata": {},
   "outputs": [],
   "source": []
  },
  {
   "cell_type": "markdown",
   "metadata": {},
   "source": [
    "##### List with Dictionaries"
   ]
  },
  {
   "cell_type": "code",
   "execution_count": null,
   "metadata": {},
   "outputs": [],
   "source": [
    "# Lists can hold all data times (integers, floats, strings, other lists, booleans, AND dictionaries)"
   ]
  },
  {
   "cell_type": "code",
   "execution_count": 160,
   "metadata": {},
   "outputs": [
    {
     "name": "stdout",
     "output_type": "stream",
     "text": [
      "[1, 2, 3, 'hello', 'goodbye', [4, 5, 6], {'a': 1, 'b': 2, 'c': 3}]\n"
     ]
    }
   ],
   "source": [
    "my_list = [1, 2, 3, 'hello', 'goodbye', [4, 5, 6], {'a':1, 'b':2, 'c':3}]\n",
    "\n",
    "print(my_list)"
   ]
  },
  {
   "cell_type": "code",
   "execution_count": 166,
   "metadata": {},
   "outputs": [
    {
     "name": "stdout",
     "output_type": "stream",
     "text": [
      "{'a': 1, 'b': 2, 'c': 3}\n",
      "<class 'dict'>\n",
      "2\n",
      "3\n"
     ]
    }
   ],
   "source": [
    "# To be able to access the dictionary within a list, we have to loop through the list \n",
    "\n",
    "# To access values in a list, we have to use indexes, before we can use the key access within the dictionary \n",
    "\n",
    "print(my_list[6])\n",
    "print(type(my_list[6]))\n",
    "\n",
    "print((my_list[6]['b'])) # [6] within my_list is the index of the dictionary, once we're at that dictionary\n",
    "# we can then use the key and combine methods \n",
    "\n",
    "print(my_list[6].get('c'))"
   ]
  },
  {
   "cell_type": "markdown",
   "metadata": {},
   "source": [
    "##### List of Dictionaries"
   ]
  },
  {
   "cell_type": "code",
   "execution_count": 173,
   "metadata": {},
   "outputs": [
    {
     "name": "stdout",
     "output_type": "stream",
     "text": [
      "[{'title': 'Inception', 'director': 'Christopher Nolan', 'release_year': 2010}, {'title': 'The Social Network', 'director': 'David Fincher', 'release_year': 2010}, {'title': 'Parasite', 'director': 'Bong Joon Ho', 'release_year': 2019}, {'director': 'Martin Scorsese', 'title': 'The Departed'}]\n"
     ]
    }
   ],
   "source": [
    "# movies is a LIST with multiple dictionaries in the list \n",
    "\n",
    "# each element is a dictionary\n",
    "\n",
    "movies = [\n",
    "    {'title': 'Inception', 'director': 'Christopher Nolan', 'release_year': 2010},\n",
    "    {'title': 'The Social Network', 'director': 'David Fincher', 'release_year': 2010},\n",
    "    {'title': 'Parasite', 'director': 'Bong Joon Ho', 'release_year': 2019},\n",
    "    {'director':'Martin Scorsese', 'title':'The Departed'}\n",
    "]\n",
    "\n",
    "print(movies)"
   ]
  },
  {
   "cell_type": "code",
   "execution_count": 169,
   "metadata": {},
   "outputs": [
    {
     "name": "stdout",
     "output_type": "stream",
     "text": [
      "{'title': 'Inception', 'director': 'Christopher Nolan', 'release_year': 2010} <class 'dict'>\n",
      "{'title': 'The Social Network', 'director': 'David Fincher', 'release_year': 2010} <class 'dict'>\n",
      "{'title': 'Parasite', 'director': 'Bong Joon Ho', 'release_year': 2019} <class 'dict'>\n"
     ]
    }
   ],
   "source": [
    "# to loop through:\n",
    "\n",
    "for m in movies:\n",
    "    print(m, type(m)) # each 'm' or element in the list movies is a dictionary "
   ]
  },
  {
   "cell_type": "code",
   "execution_count": 170,
   "metadata": {},
   "outputs": [
    {
     "name": "stdout",
     "output_type": "stream",
     "text": [
      "Title: Inception - Directed By: Christopher Nolan - 2010\n",
      "Title: The Social Network - Directed By: David Fincher - 2010\n",
      "Title: Parasite - Directed By: Bong Joon Ho - 2019\n"
     ]
    }
   ],
   "source": [
    "for m in movies:\n",
    "    print(f\"Title: {m.get('title')} - Directed By: {m.get('director')} - {m.get('release_year')}\")"
   ]
  },
  {
   "cell_type": "code",
   "execution_count": 174,
   "metadata": {},
   "outputs": [
    {
     "name": "stdout",
     "output_type": "stream",
     "text": [
      "Title: Inception - Directed By: Christopher Nolan - 2010\n",
      "Title: The Social Network - Directed By: David Fincher - 2010\n",
      "Title: Parasite - Directed By: Bong Joon Ho - 2019\n",
      "Title: The Departed - Directed By: Martin Scorsese - release year uknown\n"
     ]
    }
   ],
   "source": [
    "for m in movies:\n",
    "    print(f\"Title: {m.get('title')} - Directed By: {m.get('director')} - {m.get('release_year', 'release year uknown')}\")"
   ]
  },
  {
   "cell_type": "code",
   "execution_count": null,
   "metadata": {},
   "outputs": [],
   "source": []
  },
  {
   "cell_type": "code",
   "execution_count": null,
   "metadata": {},
   "outputs": [],
   "source": []
  },
  {
   "cell_type": "code",
   "execution_count": 45,
   "metadata": {},
   "outputs": [
    {
     "data": {
      "text/plain": [
       "-1"
      ]
     },
     "execution_count": 45,
     "metadata": {},
     "output_type": "execute_result"
    }
   ],
   "source": [
    "address_book = [\n",
    "    {'first': 'Hank', 'last': 'Mardukas', 'address': '123 Real Street', 'phone': '(555) 555-1234'},\n",
    "    {'first': 'Sydney', 'last': 'Fife', 'address': '555 Santa Monica Drive', 'phone': '(222) 222-6789'},\n",
    "    {'first': 'Peter', 'last': 'Klaven', 'address': '321 Fake Street', 'phone': '(555) 555-4321'},\n",
    "]\n",
    "\n",
    "# if you know the key is in there, you can use [], but .get() will be safer if you're not sure (it won't error, will just return None)\n",
    "\n",
    "def get_phone_number(name):\n",
    "    for person in address_book:\n",
    "        if person.get('first') == name or person.get('last') == name or person.get('first', '') + ' ' + person.get('last', '') == name:\n",
    "            return person.get('phone')\n",
    "    return -1\n",
    "        \n",
    "get_phone_number('Smith')"
   ]
  },
  {
   "cell_type": "code",
   "execution_count": 46,
   "metadata": {},
   "outputs": [
    {
     "name": "stdout",
     "output_type": "stream",
     "text": [
      "David Fincher\n"
     ]
    }
   ],
   "source": [
    "print(movies[1]['director'])"
   ]
  },
  {
   "cell_type": "markdown",
   "metadata": {},
   "source": [
    "##### Dictionaries with Lists"
   ]
  },
  {
   "cell_type": "code",
   "execution_count": 177,
   "metadata": {},
   "outputs": [
    {
     "name": "stdout",
     "output_type": "stream",
     "text": [
      "1. {'my_list': [10, 20, 30], 0: ['a', 'b', 'c']}\n",
      "2. [10, 20, 30]\n",
      "3. ['a', 'b', 'c']\n",
      "4. 30\n",
      "5. {'my_list': [10, 20, 30, 40], 0: ['a', 'b', 'c']}\n"
     ]
    }
   ],
   "source": [
    "# be careful when using numbers as keys in dictionaries, don't confuse them with indexes\n",
    "\n",
    "data = {\n",
    "    'my_list': [10, 20, 30],\n",
    "    0: ['a', 'b', 'c']\n",
    "}\n",
    "\n",
    "print('1.', data)\n",
    "print('2.', data['my_list'])\n",
    "print('3.', data[0]) # this is NOT an index - this is accessing the key 0\n",
    "print('4.', data['my_list'][2])\n",
    "data['my_list'].append(40) # you can call methods from here too \n",
    "print('5.', data)"
   ]
  },
  {
   "cell_type": "markdown",
   "metadata": {},
   "source": [
    "##### Dictionaries with Dictionaries"
   ]
  },
  {
   "cell_type": "code",
   "execution_count": 179,
   "metadata": {},
   "outputs": [
    {
     "name": "stdout",
     "output_type": "stream",
     "text": [
      "{'ice_cream': {'vanilla': 2.99, 'chocolate': 2.99, 'oreo': 3.49}, 'milkshake': {'vanilla': 3.99, 'chocolate': 3.99, 'oreo': 4.49}}\n",
      "==========\n",
      "dict_keys(['ice_cream', 'milkshake'])\n"
     ]
    }
   ],
   "source": [
    "# Dictionaries can be nested within another dictionary\n",
    "\n",
    "my_shoppe = {\n",
    "    'ice_cream': {\n",
    "        'vanilla': 2.99,\n",
    "        'chocolate': 2.99,\n",
    "        'oreo': 3.49\n",
    "    }, # comma needs to be here because this is the first key:value pair in my shoppe\n",
    "    'milkshake': {\n",
    "        'vanilla': 3.99,\n",
    "        'chocolate': 3.99,\n",
    "        'oreo': 4.49\n",
    "    }\n",
    "}\n",
    "\n",
    "print(my_shoppe)\n",
    "print('='*10)\n",
    "print(my_shoppe.keys())"
   ]
  },
  {
   "cell_type": "code",
   "execution_count": 180,
   "metadata": {},
   "outputs": [
    {
     "name": "stdout",
     "output_type": "stream",
     "text": [
      "2.99\n",
      "4.49\n",
      "2.99\n"
     ]
    }
   ],
   "source": [
    "# to get to the 'chochoalte key', you can't use just keys of rmy_shoppe\n",
    "# (there are only 2 keys here, icecream &milkshake)\n",
    "\n",
    "print(my_shoppe['ice_cream']['chocolate'])\n",
    "print(my_shoppe['milkshake']['oreo'])\n",
    "print(my_shoppe.get('ice_cream').get('vanilla'))"
   ]
  },
  {
   "cell_type": "code",
   "execution_count": null,
   "metadata": {},
   "outputs": [],
   "source": [
    "# You will start to see large dictionaries with many dictionaries nested"
   ]
  },
  {
   "cell_type": "code",
   "execution_count": 183,
   "metadata": {},
   "outputs": [],
   "source": [
    "job_app = {\n",
    "    'full_name': 'Jimmy Smith',\n",
    "    'email': 'jsmith@email.com',\n",
    "    'prog_languages': [\n",
    "        {\n",
    "            'name': 'Python',\n",
    "            'proficiency': 8\n",
    "        },\n",
    "        {\n",
    "            'name': 'JavaScript',\n",
    "            'proficiency': 5\n",
    "        }\n",
    "    ],\n",
    "    'experience': [\n",
    "        {\n",
    "            'company': 'Omnicorp',\n",
    "            'position': 'bossman',\n",
    "            'years_at_company': [2010, 2011, 2012, 2013]\n",
    "        },\n",
    "        {\n",
    "            'company': 'AlphaInc',\n",
    "            'position': 'QA',\n",
    "            'years_at_company': [2014, 2015]\n",
    "        }\n",
    "    ],\n",
    "    'us_citizen': True\n",
    "}\n"
   ]
  },
  {
   "cell_type": "code",
   "execution_count": 181,
   "metadata": {},
   "outputs": [],
   "source": [
    "# you need to understand what the data type of what you're looking at is \n",
    "# you have to know what you can do, and when you can do it AS you are traversing through your dictionary "
   ]
  },
  {
   "cell_type": "code",
   "execution_count": 187,
   "metadata": {},
   "outputs": [
    {
     "name": "stdout",
     "output_type": "stream",
     "text": [
      "<class 'dict'>\n",
      "2\n"
     ]
    }
   ],
   "source": [
    "# How many years did Jimmy Smith work at AlphaInc?\n",
    "\n",
    "print(type(job_app)) # need to go to the experience dictionary to find AlphaInc, and then look at years \n",
    "\n",
    "# So\n",
    "\n",
    "job_app['experience'][1]['years_at_company'] # you've gotten to the right spot by going to key, then index, then key \n",
    "\n",
    "# now run the length function len()\n",
    "total_years = len(job_app['experience'][1]['years_at_company'])\n",
    "print(total_years)\n"
   ]
  },
  {
   "cell_type": "code",
   "execution_count": null,
   "metadata": {},
   "outputs": [],
   "source": []
  },
  {
   "cell_type": "code",
   "execution_count": null,
   "metadata": {},
   "outputs": [],
   "source": []
  },
  {
   "cell_type": "code",
   "execution_count": 190,
   "metadata": {},
   "outputs": [],
   "source": [
    "import requests"
   ]
  },
  {
   "cell_type": "code",
   "execution_count": 191,
   "metadata": {},
   "outputs": [],
   "source": [
    "res = requests.get('https://pokeapi.co/api/v2/pokemon/charizard')\n",
    "data = res.json()"
   ]
  },
  {
   "cell_type": "code",
   "execution_count": 192,
   "metadata": {},
   "outputs": [
    {
     "data": {
      "text/plain": [
       "dict_keys(['abilities', 'base_experience', 'cries', 'forms', 'game_indices', 'height', 'held_items', 'id', 'is_default', 'location_area_encounters', 'moves', 'name', 'order', 'past_abilities', 'past_types', 'species', 'sprites', 'stats', 'types', 'weight'])"
      ]
     },
     "execution_count": 192,
     "metadata": {},
     "output_type": "execute_result"
    }
   ],
   "source": [
    "data.keys()"
   ]
  },
  {
   "cell_type": "code",
   "execution_count": 193,
   "metadata": {
    "scrolled": true
   },
   "outputs": [
    {
     "name": "stdout",
     "output_type": "stream",
     "text": [
      "mega-punch\n",
      "fire-punch\n",
      "thunder-punch\n",
      "scratch\n",
      "swords-dance\n",
      "cut\n",
      "wing-attack\n",
      "fly\n",
      "mega-kick\n",
      "headbutt\n",
      "body-slam\n",
      "take-down\n",
      "double-edge\n",
      "leer\n",
      "bite\n",
      "growl\n",
      "roar\n",
      "ember\n",
      "flamethrower\n",
      "hyper-beam\n",
      "submission\n",
      "counter\n",
      "seismic-toss\n",
      "strength\n",
      "solar-beam\n",
      "dragon-rage\n",
      "fire-spin\n",
      "earthquake\n",
      "fissure\n",
      "dig\n",
      "toxic\n",
      "rage\n",
      "mimic\n",
      "double-team\n",
      "smokescreen\n",
      "defense-curl\n",
      "reflect\n",
      "bide\n",
      "fire-blast\n",
      "swift\n",
      "skull-bash\n",
      "fury-swipes\n",
      "rest\n",
      "rock-slide\n",
      "slash\n",
      "substitute\n",
      "snore\n",
      "curse\n",
      "protect\n",
      "scary-face\n",
      "belly-drum\n",
      "mud-slap\n",
      "outrage\n",
      "sandstorm\n",
      "endure\n",
      "false-swipe\n",
      "swagger\n",
      "fury-cutter\n",
      "steel-wing\n",
      "attract\n",
      "sleep-talk\n",
      "return\n",
      "frustration\n",
      "dynamic-punch\n",
      "dragon-breath\n",
      "iron-tail\n",
      "metal-claw\n",
      "hidden-power\n",
      "twister\n",
      "sunny-day\n",
      "crunch\n",
      "ancient-power\n",
      "rock-smash\n",
      "beat-up\n",
      "heat-wave\n",
      "will-o-wisp\n",
      "facade\n",
      "focus-punch\n",
      "helping-hand\n",
      "brick-break\n",
      "secret-power\n",
      "blaze-kick\n",
      "blast-burn\n",
      "weather-ball\n",
      "air-cutter\n",
      "overheat\n",
      "rock-tomb\n",
      "aerial-ace\n",
      "dragon-claw\n",
      "dragon-dance\n",
      "roost\n",
      "natural-gift\n",
      "tailwind\n",
      "fling\n",
      "flare-blitz\n",
      "air-slash\n",
      "dragon-pulse\n",
      "dragon-rush\n",
      "focus-blast\n",
      "giga-impact\n",
      "shadow-claw\n",
      "fire-fang\n",
      "defog\n",
      "captivate\n",
      "ominous-wind\n",
      "hone-claws\n",
      "flame-burst\n",
      "flame-charge\n",
      "round\n",
      "echoed-voice\n",
      "sky-drop\n",
      "incinerate\n",
      "acrobatics\n",
      "inferno\n",
      "fire-pledge\n",
      "bulldoze\n",
      "dragon-tail\n",
      "work-up\n",
      "heat-crash\n",
      "hurricane\n",
      "confide\n",
      "mystical-fire\n",
      "power-up-punch\n",
      "brutal-swing\n",
      "breaking-swipe\n",
      "scale-shot\n",
      "dual-wingbeat\n",
      "scorching-sands\n",
      "tera-blast\n",
      "dragon-cheer\n",
      "temper-flare\n"
     ]
    }
   ],
   "source": [
    "for move in data['moves']:\n",
    "    print(move['move']['name'])"
   ]
  },
  {
   "cell_type": "code",
   "execution_count": 55,
   "metadata": {},
   "outputs": [
    {
     "name": "stdout",
     "output_type": "stream",
     "text": [
      "[2, 4, 6, 8, 10, 12, 14, 16, 18, 20, 22, 24, 26, 28, 30, 32, 34, 36, 38, 40, 42, 44, 46, 48]\n",
      "[2, 4, 6, 8, 10, 12, 14, 16, 18, 20, 22, 24, 26, 28, 30, 32, 34, 36, 38, 40, 42, 44, 46, 48]\n"
     ]
    }
   ],
   "source": [
    "# List Comprehension\n",
    "# [transform iterable filter]\n",
    "evens = []\n",
    "for num in range(1, 50):\n",
    "    if num % 2 == 0:\n",
    "        evens.append(num)\n",
    "print(evens)\n",
    "\n",
    "evens2 = [num for num in range(1,50) if num % 2 == 0]\n",
    "print(evens2)"
   ]
  },
  {
   "cell_type": "code",
   "execution_count": 56,
   "metadata": {},
   "outputs": [
    {
     "name": "stdout",
     "output_type": "stream",
     "text": [
      "{'2': 4, '4': 16, '6': 36, '8': 64, '10': 100, '12': 144, '14': 196, '16': 256, '18': 324}\n"
     ]
    }
   ],
   "source": [
    "# Dictionary Comprehension\n",
    "# {transform key:vale iterable filter}\n",
    "\n",
    "squared_loop_dict = {}\n",
    "for num in range(1,20):\n",
    "    if num % 2 == 0:\n",
    "        squared_loop_dict[str(num)] = num**2\n",
    "print(squared_loop_dict)"
   ]
  },
  {
   "cell_type": "code",
   "execution_count": 57,
   "metadata": {
    "scrolled": true
   },
   "outputs": [
    {
     "name": "stdout",
     "output_type": "stream",
     "text": [
      "{'2': 4, '4': 16, '6': 36, '8': 64, '10': 100, '12': 144, '14': 196, '16': 256, '18': 324}\n"
     ]
    }
   ],
   "source": [
    "squared_comp_dict = {str(num): num**2 for num in range(1, 20) if num % 2 == 0}\n",
    "print(squared_comp_dict)"
   ]
  },
  {
   "cell_type": "markdown",
   "metadata": {},
   "source": [
    "## Dictionaries vs. Lists (over time) Example of RUNTIME"
   ]
  },
  {
   "cell_type": "code",
   "execution_count": null,
   "metadata": {},
   "outputs": [],
   "source": [
    "# lookup function is very helpful in dictionaries "
   ]
  },
  {
   "cell_type": "code",
   "execution_count": 194,
   "metadata": {},
   "outputs": [
    {
     "name": "stdout",
     "output_type": "stream",
     "text": [
      "{0: 'value', 1: 'value', 2: 'value', 3: 'value', 4: 'value', 5: 'value', 6: 'value', 7: 'value', 8: 'value', 9: 'value'}\n",
      "[0, 1, 2, 3, 4, 5, 6, 7, 8, 9]\n"
     ]
    }
   ],
   "source": [
    "small_dictionary = {i: \"value\" for i in range(10)}\n",
    "small_list = [x for x in range(10)]\n",
    "\n",
    "print(small_dictionary)\n",
    "print(small_list)"
   ]
  },
  {
   "cell_type": "code",
   "execution_count": 195,
   "metadata": {},
   "outputs": [],
   "source": [
    "import time\n",
    "\n",
    "\n",
    "# generate fake dictionary\n",
    "big_dictionary = {i: 'value' for i in range(10000000)}\n",
    "    \n",
    "\n",
    "# generate fake list\n",
    "big_list = [x for x in range(10000000)]"
   ]
  },
  {
   "cell_type": "code",
   "execution_count": 196,
   "metadata": {},
   "outputs": [
    {
     "data": {
      "text/plain": [
       "1709239919.9964879"
      ]
     },
     "execution_count": 196,
     "metadata": {},
     "output_type": "execute_result"
    }
   ],
   "source": [
    "time.time()"
   ]
  },
  {
   "cell_type": "code",
   "execution_count": 197,
   "metadata": {},
   "outputs": [
    {
     "name": "stdout",
     "output_type": "stream",
     "text": [
      "True\n",
      "Elapsed time for dictionary: 0.0001068115234375\n",
      "True\n",
      "Elapsed time for list: 0.18260598182678223\n"
     ]
    }
   ],
   "source": [
    "# using the time above to track the time is takes to look for the set\n",
    "start_time = time.time()\n",
    "\n",
    "print(9999999 in big_dictionary) # Check if the dictionary has the key 9999999\n",
    "\n",
    "end_time = time.time()\n",
    "\n",
    "elapsed_time = end_time - start_time\n",
    "\n",
    "print(f'Elapsed time for dictionary: {elapsed_time}')\n",
    "\n",
    "\n",
    "# tracking time for list\n",
    "start_time = time.time()\n",
    "\n",
    "print(9999999 in big_list) # Check if the value 9999999 is in the list\n",
    "\n",
    "end_time = time.time()\n",
    "\n",
    "elapsed_time = end_time - start_time\n",
    "\n",
    "print(f'Elapsed time for list: {elapsed_time}')"
   ]
  },
  {
   "cell_type": "code",
   "execution_count": null,
   "metadata": {},
   "outputs": [],
   "source": [
    "# elapsed time for dictionary is WAY quicker than list \n",
    "\n",
    "# when you are storing data in a dictionary (keys must be hashable:string, int or tuple), the key goes through a hashing algorithm and this spits out some value, and based on that value, that is how it is stored in memory\n",
    "# when we come back and check if some value is there, it can immediately find that by going directly to the pair, vs looping through the list \n"
   ]
  },
  {
   "cell_type": "markdown",
   "metadata": {},
   "source": [
    "## Set <br>\n",
    "<p>A Set is an unordered collection data type that is iterable (loop), mutable, and has no duplicate elements.<br>Major advantage is that it is highly optimized in checking if something is in the set, as opposed to checking if something is in a list.</p>"
   ]
  },
  {
   "cell_type": "code",
   "execution_count": 198,
   "metadata": {},
   "outputs": [
    {
     "name": "stdout",
     "output_type": "stream",
     "text": [
      "set()\n",
      "<class 'set'>\n"
     ]
    }
   ],
   "source": [
    "# unsung hero of the data types, can be very efficient \n",
    "# unordered collection that is iterable(so we can loop through) and mutable(so we can modify), but it has not duplicates\n",
    "# when you look at sets, you typically are looking for if something is just *in* the set\n",
    "# dictionaries are an unordered \n",
    "# unordered of only values\n",
    "\n",
    "#only one way to declare an empty set \n",
    "first_set = set()\n",
    "print(first_set)\n",
    "print(type(first_set))"
   ]
  },
  {
   "cell_type": "markdown",
   "metadata": {},
   "source": [
    "##### Declaring"
   ]
  },
  {
   "cell_type": "code",
   "execution_count": 62,
   "metadata": {},
   "outputs": [
    {
     "name": "stdout",
     "output_type": "stream",
     "text": [
      "set()\n",
      "<class 'set'>\n"
     ]
    }
   ],
   "source": [
    "# set() or {val,}\n",
    "# no order {3, 2, 1} output as {1, 2, 3}\n",
    "\n",
    "first_set = set()\n",
    "print(first_set)\n",
    "print(type(first_set))"
   ]
  },
  {
   "cell_type": "code",
   "execution_count": 63,
   "metadata": {},
   "outputs": [
    {
     "name": "stdout",
     "output_type": "stream",
     "text": [
      "{56, 1, 3, 5}\n",
      "<class 'set'>\n"
     ]
    }
   ],
   "source": [
    "second_set = {3, 1, 5, 56}\n",
    "print(second_set)\n",
    "print(type(second_set)) # print can be different order, which doesn't matter because sets are unordered "
   ]
  },
  {
   "cell_type": "code",
   "execution_count": 64,
   "metadata": {},
   "outputs": [
    {
     "name": "stdout",
     "output_type": "stream",
     "text": [
      "{}\n",
      "<class 'dict'>\n"
     ]
    }
   ],
   "source": [
    "empty_set = {} # This will create an empty DICTIONARY!!!\n",
    "print(empty_set)\n",
    "print(type(empty_set))"
   ]
  },
  {
   "cell_type": "code",
   "execution_count": 200,
   "metadata": {},
   "outputs": [
    {
     "name": "stdout",
     "output_type": "stream",
     "text": [
      "{1, 2, 3, 4}\n"
     ]
    }
   ],
   "source": [
    "third_set = {1, 1, 1, 1, 1, 2, 2, 2, 2, 2, 3, 3, 3, 3, 3, 4, 4, 4, 4, 3, 3, 3, 3, 2, 2, 2, 2, 1, 1, 1}\n",
    "print(third_set) # doesn't show ALL '1s' because sets have no duplicates "
   ]
  },
  {
   "cell_type": "code",
   "execution_count": 201,
   "metadata": {},
   "outputs": [
    {
     "name": "stdout",
     "output_type": "stream",
     "text": [
      "1\n",
      "2\n",
      "3\n",
      "4\n"
     ]
    }
   ],
   "source": [
    "# Sets are iterable\n",
    "for element in third_set:\n",
    "    print(element)"
   ]
  },
  {
   "cell_type": "code",
   "execution_count": 67,
   "metadata": {},
   "outputs": [
    {
     "name": "stdout",
     "output_type": "stream",
     "text": [
      "56\n",
      "1\n",
      "3\n",
      "5\n"
     ]
    }
   ],
   "source": [
    "# Sets are unordered and unlike dictionaries, python does not remember the order \n",
    "\n",
    "for e in second_set:\n",
    "    print(e)"
   ]
  },
  {
   "cell_type": "markdown",
   "metadata": {},
   "source": [
    "##### .add()"
   ]
  },
  {
   "cell_type": "code",
   "execution_count": 68,
   "metadata": {},
   "outputs": [
    {
     "name": "stdout",
     "output_type": "stream",
     "text": [
      "Help on method_descriptor:\n",
      "\n",
      "add(...)\n",
      "    Add an element to a set.\n",
      "    \n",
      "    This has no effect if the element is already present.\n",
      "\n"
     ]
    }
   ],
   "source": [
    "help(set.add) # to add to a Set, but if element is already present, it will have no effect(bcuz no dupes)"
   ]
  },
  {
   "cell_type": "code",
   "execution_count": 202,
   "metadata": {},
   "outputs": [
    {
     "name": "stdout",
     "output_type": "stream",
     "text": [
      "{1, 2, 3, 4, 55}\n"
     ]
    }
   ],
   "source": [
    "third_set.add(55)\n",
    "print(third_set)"
   ]
  },
  {
   "cell_type": "code",
   "execution_count": 204,
   "metadata": {},
   "outputs": [
    {
     "name": "stdout",
     "output_type": "stream",
     "text": [
      "{1, 2, 3, 4, 17, 55}\n"
     ]
    }
   ],
   "source": [
    "third_set.add(17)\n",
    "print(third_set)"
   ]
  },
  {
   "cell_type": "markdown",
   "metadata": {},
   "source": [
    "##### .remove()"
   ]
  },
  {
   "cell_type": "code",
   "execution_count": 71,
   "metadata": {},
   "outputs": [
    {
     "name": "stdout",
     "output_type": "stream",
     "text": [
      "Help on method_descriptor:\n",
      "\n",
      "remove(...)\n",
      "    Remove an element from a set; it must be a member.\n",
      "    \n",
      "    If the element is not a member, raise a KeyError.\n",
      "\n"
     ]
    }
   ],
   "source": [
    "help(set.remove) # remove an element from the Set. if the element isn't a member in the set, it will throw an error "
   ]
  },
  {
   "cell_type": "code",
   "execution_count": 72,
   "metadata": {},
   "outputs": [
    {
     "name": "stdout",
     "output_type": "stream",
     "text": [
      "{1, 3, 4, 55}\n"
     ]
    }
   ],
   "source": [
    "third_set.remove(2) #the 2 has been removed \n",
    "print(third_set)"
   ]
  },
  {
   "cell_type": "code",
   "execution_count": 73,
   "metadata": {
    "scrolled": true
   },
   "outputs": [
    {
     "ename": "KeyError",
     "evalue": "123",
     "output_type": "error",
     "traceback": [
      "\u001b[1;31m---------------------------------------------------------------------------\u001b[0m",
      "\u001b[1;31mKeyError\u001b[0m                                  Traceback (most recent call last)",
      "Cell \u001b[1;32mIn[73], line 1\u001b[0m\n\u001b[1;32m----> 1\u001b[0m \u001b[43mthird_set\u001b[49m\u001b[38;5;241;43m.\u001b[39;49m\u001b[43mremove\u001b[49m\u001b[43m(\u001b[49m\u001b[38;5;241;43m123\u001b[39;49m\u001b[43m)\u001b[49m\n\u001b[0;32m      2\u001b[0m \u001b[38;5;28mprint\u001b[39m(third_set)\n",
      "\u001b[1;31mKeyError\u001b[0m: 123"
     ]
    }
   ],
   "source": [
    "third_set.remove(123) # throws error \n",
    "print(third_set)"
   ]
  },
  {
   "cell_type": "markdown",
   "metadata": {},
   "source": [
    "##### .union() "
   ]
  },
  {
   "cell_type": "code",
   "execution_count": 74,
   "metadata": {},
   "outputs": [
    {
     "name": "stdout",
     "output_type": "stream",
     "text": [
      "Help on method_descriptor:\n",
      "\n",
      "union(...)\n",
      "    Return the union of sets as a new set.\n",
      "    \n",
      "    (i.e. all elements that are in either set.)\n",
      "\n"
     ]
    }
   ],
   "source": [
    "help(set.union) # If you have 2 sets, we have built in methods to look at the similiarities/differences "
   ]
  },
  {
   "cell_type": "code",
   "execution_count": 206,
   "metadata": {},
   "outputs": [
    {
     "name": "stdout",
     "output_type": "stream",
     "text": [
      "{1, 2, 3, 4, 5, 6}\n",
      "{1, 2, 3, 4, 5, 6}\n",
      "{1, 2, 3, 4}\n",
      "{3, 4, 5, 6}\n"
     ]
    }
   ],
   "source": [
    "# Returns a union of two sets, can also use '|' or set.union(set)\n",
    "# joins all numbers, gets rid of duplicates. Order still does not matter \n",
    "s1 = {1, 2, 3, 4}\n",
    "s2 = {3, 4, 5, 6}\n",
    "\n",
    "s3 = s1.union(s2) # calling the .union() method\n",
    "print(s3)\n",
    "\n",
    "# OR\n",
    "\n",
    "s4 = s2 | s1  # or use the 'pipe' operator \n",
    "print(s4)\n",
    "\n",
    "print(s1)\n",
    "print(s2)"
   ]
  },
  {
   "cell_type": "markdown",
   "metadata": {},
   "source": [
    "##### .intersection()"
   ]
  },
  {
   "cell_type": "code",
   "execution_count": 76,
   "metadata": {},
   "outputs": [
    {
     "name": "stdout",
     "output_type": "stream",
     "text": [
      "Help on method_descriptor:\n",
      "\n",
      "intersection(...)\n",
      "    Return the intersection of two sets as a new set.\n",
      "    \n",
      "    (i.e. all elements that are in both sets.)\n",
      "\n"
     ]
    }
   ],
   "source": [
    "help(set.intersection)"
   ]
  },
  {
   "cell_type": "code",
   "execution_count": 210,
   "metadata": {
    "scrolled": true
   },
   "outputs": [
    {
     "name": "stdout",
     "output_type": "stream",
     "text": [
      "{3, 4}\n",
      "{3, 4}\n",
      "{1, 2, 5, 7, 8, 9}\n",
      "set()\n"
     ]
    }
   ],
   "source": [
    "# Returns an intersection of two sets, can also use '&' # looking for the elements in common \n",
    "# only takes similar elements from both sets, order doesn't matter \n",
    "s5 = s1.intersection(s2)\n",
    "print(s5)\n",
    "\n",
    "# OR \n",
    "\n",
    "s6 = s2 & s1\n",
    "print(s6)\n",
    "\n",
    "# - - - - - - - - \n",
    "f1 = {1, 5, 8}\n",
    "f2 = {2, 7, 9}\n",
    "\n",
    "f3 = f1 | f2\n",
    "print(f3)\n",
    "\n",
    "f4 = f1.intersection(f2) \n",
    "print(f4) # we get nothing, because there are no common elements"
   ]
  },
  {
   "cell_type": "markdown",
   "metadata": {},
   "source": [
    "##### .difference()"
   ]
  },
  {
   "cell_type": "code",
   "execution_count": 78,
   "metadata": {},
   "outputs": [
    {
     "name": "stdout",
     "output_type": "stream",
     "text": [
      "Help on method_descriptor:\n",
      "\n",
      "difference(...)\n",
      "    Return the difference of two or more sets as a new set.\n",
      "    \n",
      "    (i.e. all elements that are in this set but not the others.)\n",
      "\n"
     ]
    }
   ],
   "source": [
    "help(set.difference)"
   ]
  },
  {
   "cell_type": "code",
   "execution_count": 79,
   "metadata": {},
   "outputs": [
    {
     "name": "stdout",
     "output_type": "stream",
     "text": [
      "{1, 2}\n",
      "{5, 6}\n",
      "{1, 2}\n",
      "{5, 6}\n"
     ]
    }
   ],
   "source": [
    "# Returns a set containing all the elements of invoking set (so order matters) that are not in the second set, can also use '-'\n",
    "# only takes values from the first set that are not in the second set\n",
    "# order matters\n",
    "\n",
    "s1 = {1, 2, 3, 4}\n",
    "s2 = {3, 4, 5, 6}\n",
    "\n",
    "# order: s7 will print the different elements in s1 from s2 \n",
    "s7 = s1.difference(s2)\n",
    "print(s7)\n",
    "\n",
    "s8 = s2.difference(s1)\n",
    "print(s8)\n",
    "\n",
    "# OR\n",
    "\n",
    "s9 = s1 - s2\n",
    "print(s9)\n",
    "\n",
    "s10 = s2 - s1\n",
    "print(s10)"
   ]
  },
  {
   "cell_type": "markdown",
   "metadata": {},
   "source": [
    "##### .clear()"
   ]
  },
  {
   "cell_type": "code",
   "execution_count": 80,
   "metadata": {},
   "outputs": [
    {
     "name": "stdout",
     "output_type": "stream",
     "text": [
      "Help on method_descriptor:\n",
      "\n",
      "clear(...)\n",
      "    Remove all elements from this set.\n",
      "\n"
     ]
    }
   ],
   "source": [
    "# Empties the whole set\n",
    "# set.clear()\n",
    "help(set.clear)"
   ]
  },
  {
   "cell_type": "code",
   "execution_count": 81,
   "metadata": {},
   "outputs": [
    {
     "name": "stdout",
     "output_type": "stream",
     "text": [
      "{3, 23, 6, 54, 9, 43, 12}\n",
      "set()\n"
     ]
    }
   ],
   "source": [
    "nums = {3, 6, 9, 23, 43, 12, 54}\n",
    "\n",
    "print(nums)\n",
    "\n",
    "nums.clear()\n",
    "\n",
    "print(nums)"
   ]
  },
  {
   "cell_type": "code",
   "execution_count": null,
   "metadata": {},
   "outputs": [],
   "source": [
    "# Sets are great for checking for membership\n",
    "# When is something better for a set?\n",
    "# Determining whether something is in a set or not, and is un-ordered "
   ]
  },
  {
   "cell_type": "code",
   "execution_count": 215,
   "metadata": {},
   "outputs": [
    {
     "name": "stdout",
     "output_type": "stream",
     "text": [
      "Enter Something: Hello! How many vowels are in this sentence?\n",
      "There are 13 vowels in 'Hello! How many vowels are in this sentence?'\n"
     ]
    }
   ],
   "source": [
    "# list vs set\n",
    "\n",
    "user_input = input('Enter Something: ')\n",
    "\n",
    "vowel_count = 0\n",
    "for letter in user_input:\n",
    "    if letter.lower()in ['a','e','i','o','u']:# this is a list of vowels (but the order of vowels doesn't matter)\n",
    "        vowel_count += 1\n",
    "\n",
    "print(f\"There are {vowel_count} vowels in '{user_input}'\")\n",
    "\n",
    "\n",
    "set1 = {'a', 'e','i', 'o', 'u'} # would be much more efficient for memory and you would just replace the [] with {}"
   ]
  },
  {
   "cell_type": "markdown",
   "metadata": {},
   "source": [
    "##### Frozenset <br>\n",
    "<p>Frozen sets are immutable objects that only support methods and operators that produce a result without affecting the frozen set or sets to which they are applied.</p><br><b>Unique & Immutable</b>"
   ]
  },
  {
   "cell_type": "code",
   "execution_count": 83,
   "metadata": {},
   "outputs": [],
   "source": [
    "# frozensets:sets :: tuples:lists (frozen set is just an immutable set)\n",
    "# immutable objects"
   ]
  },
  {
   "cell_type": "code",
   "execution_count": 217,
   "metadata": {},
   "outputs": [
    {
     "data": {
      "text/plain": [
       "{1, 2, 3, 4, 5, 6}"
      ]
     },
     "execution_count": 217,
     "metadata": {},
     "output_type": "execute_result"
    }
   ],
   "source": [
    "# frozenset([])\n",
    "s3"
   ]
  },
  {
   "cell_type": "code",
   "execution_count": 218,
   "metadata": {},
   "outputs": [
    {
     "name": "stdout",
     "output_type": "stream",
     "text": [
      "frozenset({1, 2, 3, 4, 5, 6})\n",
      "<class 'frozenset'>\n"
     ]
    }
   ],
   "source": [
    "my_frozen_set = frozenset(s3)\n",
    "print(my_frozen_set)\n",
    "print(type(my_frozen_set))"
   ]
  },
  {
   "cell_type": "code",
   "execution_count": 86,
   "metadata": {
    "scrolled": true
   },
   "outputs": [
    {
     "name": "stdout",
     "output_type": "stream",
     "text": [
      "Help on class frozenset in module builtins:\n",
      "\n",
      "class frozenset(object)\n",
      " |  frozenset() -> empty frozenset object\n",
      " |  frozenset(iterable) -> frozenset object\n",
      " |  \n",
      " |  Build an immutable unordered collection of unique elements.\n",
      " |  \n",
      " |  Methods defined here:\n",
      " |  \n",
      " |  __and__(self, value, /)\n",
      " |      Return self&value.\n",
      " |  \n",
      " |  __contains__(...)\n",
      " |      x.__contains__(y) <==> y in x.\n",
      " |  \n",
      " |  __eq__(self, value, /)\n",
      " |      Return self==value.\n",
      " |  \n",
      " |  __ge__(self, value, /)\n",
      " |      Return self>=value.\n",
      " |  \n",
      " |  __getattribute__(self, name, /)\n",
      " |      Return getattr(self, name).\n",
      " |  \n",
      " |  __gt__(self, value, /)\n",
      " |      Return self>value.\n",
      " |  \n",
      " |  __hash__(self, /)\n",
      " |      Return hash(self).\n",
      " |  \n",
      " |  __iter__(self, /)\n",
      " |      Implement iter(self).\n",
      " |  \n",
      " |  __le__(self, value, /)\n",
      " |      Return self<=value.\n",
      " |  \n",
      " |  __len__(self, /)\n",
      " |      Return len(self).\n",
      " |  \n",
      " |  __lt__(self, value, /)\n",
      " |      Return self<value.\n",
      " |  \n",
      " |  __ne__(self, value, /)\n",
      " |      Return self!=value.\n",
      " |  \n",
      " |  __or__(self, value, /)\n",
      " |      Return self|value.\n",
      " |  \n",
      " |  __rand__(self, value, /)\n",
      " |      Return value&self.\n",
      " |  \n",
      " |  __reduce__(...)\n",
      " |      Return state information for pickling.\n",
      " |  \n",
      " |  __repr__(self, /)\n",
      " |      Return repr(self).\n",
      " |  \n",
      " |  __ror__(self, value, /)\n",
      " |      Return value|self.\n",
      " |  \n",
      " |  __rsub__(self, value, /)\n",
      " |      Return value-self.\n",
      " |  \n",
      " |  __rxor__(self, value, /)\n",
      " |      Return value^self.\n",
      " |  \n",
      " |  __sizeof__(...)\n",
      " |      S.__sizeof__() -> size of S in memory, in bytes\n",
      " |  \n",
      " |  __sub__(self, value, /)\n",
      " |      Return self-value.\n",
      " |  \n",
      " |  __xor__(self, value, /)\n",
      " |      Return self^value.\n",
      " |  \n",
      " |  copy(...)\n",
      " |      Return a shallow copy of a set.\n",
      " |  \n",
      " |  difference(...)\n",
      " |      Return the difference of two or more sets as a new set.\n",
      " |      \n",
      " |      (i.e. all elements that are in this set but not the others.)\n",
      " |  \n",
      " |  intersection(...)\n",
      " |      Return the intersection of two sets as a new set.\n",
      " |      \n",
      " |      (i.e. all elements that are in both sets.)\n",
      " |  \n",
      " |  isdisjoint(...)\n",
      " |      Return True if two sets have a null intersection.\n",
      " |  \n",
      " |  issubset(...)\n",
      " |      Report whether another set contains this set.\n",
      " |  \n",
      " |  issuperset(...)\n",
      " |      Report whether this set contains another set.\n",
      " |  \n",
      " |  symmetric_difference(...)\n",
      " |      Return the symmetric difference of two sets as a new set.\n",
      " |      \n",
      " |      (i.e. all elements that are in exactly one of the sets.)\n",
      " |  \n",
      " |  union(...)\n",
      " |      Return the union of sets as a new set.\n",
      " |      \n",
      " |      (i.e. all elements that are in either set.)\n",
      " |  \n",
      " |  ----------------------------------------------------------------------\n",
      " |  Class methods defined here:\n",
      " |  \n",
      " |  __class_getitem__(...) from builtins.type\n",
      " |      See PEP 585\n",
      " |  \n",
      " |  ----------------------------------------------------------------------\n",
      " |  Static methods defined here:\n",
      " |  \n",
      " |  __new__(*args, **kwargs) from builtins.type\n",
      " |      Create and return a new object.  See help(type) for accurate signature.\n",
      "\n"
     ]
    }
   ],
   "source": [
    "help(frozenset) # no add or remove methods because you can't modify it "
   ]
  },
  {
   "cell_type": "code",
   "execution_count": 87,
   "metadata": {},
   "outputs": [
    {
     "ename": "AttributeError",
     "evalue": "'frozenset' object has no attribute 'add'",
     "output_type": "error",
     "traceback": [
      "\u001b[1;31m---------------------------------------------------------------------------\u001b[0m",
      "\u001b[1;31mAttributeError\u001b[0m                            Traceback (most recent call last)",
      "Cell \u001b[1;32mIn[87], line 1\u001b[0m\n\u001b[1;32m----> 1\u001b[0m \u001b[43mmy_frozen_set\u001b[49m\u001b[38;5;241;43m.\u001b[39;49m\u001b[43madd\u001b[49m(\u001b[38;5;241m7\u001b[39m)\n",
      "\u001b[1;31mAttributeError\u001b[0m: 'frozenset' object has no attribute 'add'"
     ]
    }
   ],
   "source": [
    "my_frozen_set.add(7)"
   ]
  },
  {
   "cell_type": "code",
   "execution_count": 88,
   "metadata": {},
   "outputs": [
    {
     "ename": "AttributeError",
     "evalue": "'frozenset' object has no attribute 'clear'",
     "output_type": "error",
     "traceback": [
      "\u001b[1;31m---------------------------------------------------------------------------\u001b[0m",
      "\u001b[1;31mAttributeError\u001b[0m                            Traceback (most recent call last)",
      "Cell \u001b[1;32mIn[88], line 1\u001b[0m\n\u001b[1;32m----> 1\u001b[0m \u001b[43mmy_frozen_set\u001b[49m\u001b[38;5;241;43m.\u001b[39;49m\u001b[43mclear\u001b[49m()\n",
      "\u001b[1;31mAttributeError\u001b[0m: 'frozenset' object has no attribute 'clear'"
     ]
    }
   ],
   "source": [
    "my_frozen_set.clear()"
   ]
  },
  {
   "cell_type": "code",
   "execution_count": 89,
   "metadata": {},
   "outputs": [
    {
     "name": "stdout",
     "output_type": "stream",
     "text": [
      "a\n",
      "123\n"
     ]
    }
   ],
   "source": [
    "# Since frozensets are immutable (i.e. hashable), it can be used as dictionary keys or set values\n",
    "\n",
    "super_cool_dict = {\n",
    "    (1, 2, 3) : 'a',\n",
    "    frozenset({'a', 'b'}): 123\n",
    "}\n",
    "\n",
    "print(super_cool_dict[(1, 2, 3)])\n",
    "print(super_cool_dict.get(frozenset({'a', 'b'})))"
   ]
  },
  {
   "cell_type": "code",
   "execution_count": 90,
   "metadata": {},
   "outputs": [],
   "source": [
    "# All set values must be hashable\n",
    "\n",
    "my_set = {1, 2, 3, ('a', 'b')}"
   ]
  },
  {
   "cell_type": "code",
   "execution_count": 219,
   "metadata": {},
   "outputs": [
    {
     "ename": "TypeError",
     "evalue": "unhashable type: 'list'",
     "output_type": "error",
     "traceback": [
      "\u001b[0;31m---------------------------------------------------------------------------\u001b[0m",
      "\u001b[0;31mTypeError\u001b[0m                                 Traceback (most recent call last)",
      "Cell \u001b[0;32mIn[219], line 2\u001b[0m\n\u001b[1;32m      1\u001b[0m \u001b[38;5;66;03m# All set values must be hashable\u001b[39;00m\n\u001b[0;32m----> 2\u001b[0m my_Set \u001b[38;5;241m=\u001b[39m {\u001b[38;5;241m1\u001b[39m, \u001b[38;5;241m2\u001b[39m, \u001b[38;5;241m3\u001b[39m, \u001b[38;5;124m'\u001b[39m\u001b[38;5;124mhello\u001b[39m\u001b[38;5;124m'\u001b[39m, (\u001b[38;5;241m4\u001b[39m, \u001b[38;5;241m5\u001b[39m, \u001b[38;5;241m6\u001b[39m), [\u001b[38;5;124m'\u001b[39m\u001b[38;5;124ma\u001b[39m\u001b[38;5;124m'\u001b[39m,\u001b[38;5;124m'\u001b[39m\u001b[38;5;124mb\u001b[39m\u001b[38;5;124m'\u001b[39m]}\n",
      "\u001b[0;31mTypeError\u001b[0m: unhashable type: 'list'"
     ]
    }
   ],
   "source": [
    "# All set values must be hashable/immutable \n",
    "my_Set = {1, 2, 3, 'hello', (4, 5, 6), ['a','b']} # the set throws an error because a list is inside, which is not hashable (because it is mutable)"
   ]
  },
  {
   "cell_type": "markdown",
   "metadata": {},
   "source": [
    "## Sets vs. Lists (over time) Example of RUNTIME"
   ]
  },
  {
   "cell_type": "code",
   "execution_count": null,
   "metadata": {},
   "outputs": [],
   "source": [
    "# There is such a thing called Set Comprehension - same thing as list comprehension but with {} instead of []"
   ]
  },
  {
   "cell_type": "code",
   "execution_count": 91,
   "metadata": {},
   "outputs": [
    {
     "name": "stdout",
     "output_type": "stream",
     "text": [
      "{0, 1, 2, 3, 4, 5, 6, 7, 8, 9}\n"
     ]
    }
   ],
   "source": [
    "small_set = {f for f in range(10)}\n",
    "print(small_set)"
   ]
  },
  {
   "cell_type": "code",
   "execution_count": null,
   "metadata": {},
   "outputs": [],
   "source": [
    "# instead of key value pairs, just a bunch of values "
   ]
  },
  {
   "cell_type": "code",
   "execution_count": 220,
   "metadata": {},
   "outputs": [],
   "source": [
    "import time\n",
    "# generate fake set\n",
    "big_set = {i for i in range(10000000)}\n",
    "    \n",
    "\n",
    "# generate fake list\n",
    "big_list = [x for x in range(10000000)]"
   ]
  },
  {
   "cell_type": "code",
   "execution_count": 221,
   "metadata": {},
   "outputs": [
    {
     "name": "stdout",
     "output_type": "stream",
     "text": [
      "True\n",
      "Elapsed time for set: 0.00014638900756835938\n",
      "True\n",
      "Elapsed time for list: 0.09769797325134277\n"
     ]
    }
   ],
   "source": [
    "# tracking time for set\n",
    "start_time = time.time()\n",
    "\n",
    "print(9999999 in big_set)\n",
    "\n",
    "end_time = time.time()\n",
    "\n",
    "elapsed_time = end_time - start_time\n",
    "\n",
    "print(f'Elapsed time for set: {elapsed_time}')\n",
    "\n",
    "\n",
    "# tracking time for list\n",
    "start_time = time.time()\n",
    "\n",
    "print(9999999 in big_list)\n",
    "\n",
    "end_time = time.time()\n",
    "\n",
    "elapsed_time = end_time - start_time\n",
    "\n",
    "print(f'Elapsed time for list: {elapsed_time}')\n",
    "\n",
    "# you can see the time for a set is much faster "
   ]
  },
  {
   "cell_type": "code",
   "execution_count": null,
   "metadata": {},
   "outputs": [],
   "source": [
    "# dictionaries & sets are UN ordered data collections "
   ]
  },
  {
   "cell_type": "markdown",
   "metadata": {},
   "source": [
    "# Exercises"
   ]
  },
  {
   "cell_type": "markdown",
   "metadata": {},
   "source": [
    "### 1) Address Book\n",
    "\n",
    "\n",
    "Develop a user-friendly program that acts as an address book. The program should have the following functionalities:\n",
    "\n",
    "1. Upon starting the program, create an empty dictionary to store names and addresses.\n",
    "\n",
    "2. Allow the user to add people to the address book. For each entry, prompt the user to input a name and its corresponding address. Store these as key-value pairs in the dictionary.\n",
    "\n",
    "3. Provide a clear and straightforward menu for the user, including options to add a new entry or quit the program.\n",
    "\n",
    "4. Implement a loop that allows users to continue adding entries until they explicitly choose to quit.\n",
    "\n",
    "5. When the user decides to quit, break out of the loop and display the collected information. Print out the names and addresses of everyone in the address book in a well-formatted manner.\n",
    "\n",
    "6. Consider adding error handling to handle unexpected inputs gracefully. For instance, if the user provides invalid input when prompted for a name or address, handle the error and ask for the information again.\n",
    "\n",
    "7. Provide a user-friendly and informative message when the program terminates, summarizing the data entered and thanking the user for using the address book."
   ]
  },
  {
   "cell_type": "code",
   "execution_count": null,
   "metadata": {},
   "outputs": [],
   "source": [
    "# define function with (*args)\n",
    "# create an empty dictionary to store names and addresses\n",
    "# accept user input - start at menu (add new entry or quit) - loop until user quits \n",
    "    # input of  name \n",
    "    # input of address\n",
    "    # store as key, value pairs\n",
    "        #AFTER - go back and add in safeguards for invalid inputs\n",
    "# once quits, break loop and print collected information \n",
    "    # make sure its well-formatted\n",
    "# return a user-friendly and informative message when program terminates, summarizing data entered and thank the user for using the address book\n",
    "\n"
   ]
  },
  {
   "cell_type": "code",
   "execution_count": 284,
   "metadata": {},
   "outputs": [
    {
     "name": "stdout",
     "output_type": "stream",
     "text": [
      "Welcome to the Address Book!\n",
      "What would you like to do today? Add or Quit?Add\n",
      "Please add a nameLexie\n",
      "\tYou added Lexie.\n",
      "Please add an address123 Real St\n",
      "\tYou added 123 Real St to Lexie\n",
      "What would you like to do today? Add or Quit?k\n",
      "Sorry, this is not a valid input.\n",
      "Please add a nameLexie\n",
      "\tYou added Lexie.\n",
      "Please add an address124 Real St\n",
      "\tYou added 124 Real St to Lexie\n",
      "What would you like to do today? Add or Quit?Quit\n",
      "\n",
      "Here is the information in our address book.\n",
      "\n",
      "Lexie 124 Real St\n",
      "=========================\n",
      "\n",
      "Thank you for using the Address Book!\n"
     ]
    }
   ],
   "source": [
    "def address_book():\n",
    "    print('Welcome to the Address Book!')\n",
    "    book = {}\n",
    "    menu_input = input('What would you like to do today? Add or Quit?')\n",
    "    while menu_input != 'Quit':\n",
    "        name_input = input('Please add a name')\n",
    "        print(f'\\tYou added {name_input}.')\n",
    "        add_input = input('Please add an address')\n",
    "        print (f'\\tYou added {add_input} to {name_input}')\n",
    "        book[str(name_input)] = str(add_input)\n",
    "        menu_input = input('What would you like to do today? Add or Quit?')\n",
    "        if menu_input == 'Quit':\n",
    "            break\n",
    "        else:\n",
    "            print('Sorry, this is not a valid input.')\n",
    "        \n",
    "    print('\\nHere is the information in our address book.\\n')\n",
    "    for name, address in book.items():\n",
    "        print(name, address)\n",
    "        print('='*25)\n",
    "   \n",
    "    print('\\nThank you for using the Address Book!')\n",
    "    \n",
    "         \n",
    "address_book()"
   ]
  },
  {
   "cell_type": "markdown",
   "metadata": {},
   "source": [
    "### 2) Best Time to Meet"
   ]
  },
  {
   "cell_type": "markdown",
   "metadata": {},
   "source": [
    "Billy is trying to figure out if there is a time that he and his team can meet to work on the project. His three teammates each give him a set of times they are available ('HH:MM' 24-hour). Create a function that will take in any number of sets of available times (*remember \\*args*) and return a set of times where everyone can meet."
   ]
  },
  {
   "cell_type": "code",
   "execution_count": 288,
   "metadata": {},
   "outputs": [],
   "source": [
    "person1 = {'09:00', '10:30', '11:30', '12:00', '13:00', '14:30'}\n",
    "person2 = {'09:30', '10:00', '10:30', '12:00', '14:30', '16:00'}\n",
    "person3 = {'09:00', '09:30', '11:00', '11:30', '12:00', '13:30', '14:30', '15:00'}\n",
    "person4 = {'11:00', '11:30', '12:00', '14:00', '14:30', '16:30', '17:00'}\n",
    "# Available Times: '12:00' and '14:30'\n",
    "\n"
   ]
  },
  {
   "cell_type": "code",
   "execution_count": null,
   "metadata": {},
   "outputs": [],
   "source": [
    "# input: multiple sets, output: overlapping times between sets \n",
    "# def fx for multiple args \n",
    "# loop through sets and look at intersection \n",
    "# return intersection times\n",
    "\n",
    "# intersection \n",
    "s6 = s2 & s1\n",
    "print(s6)"
   ]
  },
  {
   "cell_type": "code",
   "execution_count": 291,
   "metadata": {},
   "outputs": [
    {
     "name": "stdout",
     "output_type": "stream",
     "text": [
      "{'14:30', '12:00'}\n"
     ]
    }
   ],
   "source": [
    "def solution(*times):\n",
    "    for person in times:\n",
    "        p1p2 = person1 & person2\n",
    "        p3p4 = person3 & person4\n",
    "        all = p1p2 & p3p4\n",
    "    print(all)\n",
    "        \n",
    "solution(person1, person2, person3, person4)        "
   ]
  }
 ],
 "metadata": {
  "kernelspec": {
   "display_name": "Python 3 (ipykernel)",
   "language": "python",
   "name": "python3"
  },
  "language_info": {
   "codemirror_mode": {
    "name": "ipython",
    "version": 3
   },
   "file_extension": ".py",
   "mimetype": "text/x-python",
   "name": "python",
   "nbconvert_exporter": "python",
   "pygments_lexer": "ipython3",
   "version": "3.11.5"
  }
 },
 "nbformat": 4,
 "nbformat_minor": 2
}
